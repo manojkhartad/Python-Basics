{
  "nbformat": 4,
  "nbformat_minor": 0,
  "metadata": {
    "colab": {
      "provenance": [],
      "authorship_tag": "ABX9TyMXwLbM7mKviPHe5LKS3qxH",
      "include_colab_link": true
    },
    "kernelspec": {
      "name": "python3",
      "display_name": "Python 3"
    },
    "language_info": {
      "name": "python"
    }
  },
  "cells": [
    {
      "cell_type": "markdown",
      "metadata": {
        "id": "view-in-github",
        "colab_type": "text"
      },
      "source": [
        "<a href=\"https://colab.research.google.com/github/manojkhartad/Python-Basics/blob/main/python_basics.ipynb\" target=\"_parent\"><img src=\"https://colab.research.google.com/assets/colab-badge.svg\" alt=\"Open In Colab\"/></a>"
      ]
    },
    {
      "cell_type": "code",
      "execution_count": 3,
      "metadata": {
        "id": "hu-tFLlK5GAg"
      },
      "outputs": [],
      "source": [
        "data = 123 #The data is a number 16/11/2022"
      ]
    },
    {
      "cell_type": "code",
      "source": [
        "print(data)"
      ],
      "metadata": {
        "colab": {
          "base_uri": "https://localhost:8080/"
        },
        "id": "BvGuUoeZ5VzX",
        "outputId": "b31d931e-10d7-40ef-d6e1-9f0ff29ed2fb"
      },
      "execution_count": 4,
      "outputs": [
        {
          "output_type": "stream",
          "name": "stdout",
          "text": [
            "123\n"
          ]
        }
      ]
    },
    {
      "cell_type": "code",
      "source": [
        "a=2**150\n",
        "print(a)\n",
        "print(type(a))"
      ],
      "metadata": {
        "colab": {
          "base_uri": "https://localhost:8080/"
        },
        "id": "dwAfScCaKC7O",
        "outputId": "2bcd3574-0c89-45a8-aff8-092814f44f2b"
      },
      "execution_count": 6,
      "outputs": [
        {
          "output_type": "stream",
          "name": "stdout",
          "text": [
            "1427247692705959881058285969449495136382746624\n",
            "<class 'int'>\n"
          ]
        }
      ]
    },
    {
      "cell_type": "code",
      "source": [
        "pi=22/7\n",
        "print(pi)\n",
        "print(type(pi))"
      ],
      "metadata": {
        "colab": {
          "base_uri": "https://localhost:8080/"
        },
        "id": "uwI-BMlqKTFl",
        "outputId": "da074ab0-c43b-4fda-e0eb-0846b2146be4"
      },
      "execution_count": 8,
      "outputs": [
        {
          "output_type": "stream",
          "name": "stdout",
          "text": [
            "3.142857142857143\n",
            "<class 'float'>\n"
          ]
        }
      ]
    },
    {
      "cell_type": "code",
      "source": [
        "name='manoj'\n",
        "print(name)\n",
        "print(type(name))"
      ],
      "metadata": {
        "colab": {
          "base_uri": "https://localhost:8080/"
        },
        "id": "ejBOEY7jKkUz",
        "outputId": "74f0306c-0424-467c-f83c-b16d17ff395e"
      },
      "execution_count": 9,
      "outputs": [
        {
          "output_type": "stream",
          "name": "stdout",
          "text": [
            "manoj\n",
            "<class 'str'>\n"
          ]
        }
      ]
    },
    {
      "cell_type": "code",
      "source": [
        "first_name=\"Manoj\"\n",
        "print(first_name)\n",
        "last_name= \"Khartad\"\n",
        "print(last_name)"
      ],
      "metadata": {
        "colab": {
          "base_uri": "https://localhost:8080/"
        },
        "id": "zxJiunmhK4_b",
        "outputId": "3c371539-56d2-4ed9-8da5-69839d3b78cf"
      },
      "execution_count": 10,
      "outputs": [
        {
          "output_type": "stream",
          "name": "stdout",
          "text": [
            "Manoj\n",
            "Khartad\n"
          ]
        }
      ]
    },
    {
      "cell_type": "code",
      "source": [
        "first_name= input(\"First name: \")\n",
        "last_name= input(\"Last name: \")\n"
      ],
      "metadata": {
        "colab": {
          "base_uri": "https://localhost:8080/"
        },
        "id": "9uXbB2aRLVo7",
        "outputId": "7e81229b-57c8-4a51-b0d0-87b8b3eaeb90"
      },
      "execution_count": 13,
      "outputs": [
        {
          "name": "stdout",
          "output_type": "stream",
          "text": [
            "First name: Manoj\n",
            "Last name: Khartad\n"
          ]
        }
      ]
    },
    {
      "cell_type": "code",
      "source": [
        "c=4+5j # c is complex variable with real component 4 and imaginary component 5\n",
        "print(c)"
      ],
      "metadata": {
        "colab": {
          "base_uri": "https://localhost:8080/"
        },
        "id": "uP-AcEwrMwZq",
        "outputId": "ef6c6b39-93f4-4db0-d7bc-85f243750f02"
      },
      "execution_count": 14,
      "outputs": [
        {
          "output_type": "stream",
          "name": "stdout",
          "text": [
            "(4+5j)\n"
          ]
        }
      ]
    },
    {
      "cell_type": "code",
      "source": [],
      "metadata": {
        "id": "DzM0sSw6NAgF"
      },
      "execution_count": null,
      "outputs": []
    },
    {
      "cell_type": "markdown",
      "source": [
        "Mathematical Operator"
      ],
      "metadata": {
        "id": "6-WGpeu0NNvi"
      }
    },
    {
      "cell_type": "code",
      "source": [
        "x=11\n",
        "y=8"
      ],
      "metadata": {
        "id": "lqtI2oNTNQae"
      },
      "execution_count": 16,
      "outputs": []
    },
    {
      "cell_type": "code",
      "source": [
        "z=x+y # addition\n",
        "print(z)"
      ],
      "metadata": {
        "colab": {
          "base_uri": "https://localhost:8080/"
        },
        "id": "0em2hYF9NYNi",
        "outputId": "d2fbb0d2-20a5-4d28-b276-88d55e9c43d3"
      },
      "execution_count": 18,
      "outputs": [
        {
          "output_type": "stream",
          "name": "stdout",
          "text": [
            "19\n"
          ]
        }
      ]
    },
    {
      "cell_type": "code",
      "source": [
        "z=x-y # Substraction\n",
        "print(z)"
      ],
      "metadata": {
        "colab": {
          "base_uri": "https://localhost:8080/"
        },
        "id": "_f_KCFBtNtV6",
        "outputId": "b9abe421-f290-4d0b-ea41-410b2fc107bc"
      },
      "execution_count": 19,
      "outputs": [
        {
          "output_type": "stream",
          "name": "stdout",
          "text": [
            "3\n"
          ]
        }
      ]
    },
    {
      "cell_type": "code",
      "source": [
        "z=x*y #Multiplication\n",
        "z"
      ],
      "metadata": {
        "colab": {
          "base_uri": "https://localhost:8080/"
        },
        "id": "1unjx3y3NzJ-",
        "outputId": "ecdcdc0c-537d-4023-e5e3-2190442ee4f2"
      },
      "execution_count": 20,
      "outputs": [
        {
          "output_type": "execute_result",
          "data": {
            "text/plain": [
              "88"
            ]
          },
          "metadata": {},
          "execution_count": 20
        }
      ]
    },
    {
      "cell_type": "code",
      "source": [
        "z=x/y #Division\n",
        "z"
      ],
      "metadata": {
        "colab": {
          "base_uri": "https://localhost:8080/"
        },
        "id": "oLsCPkPON2_S",
        "outputId": "2ea5f219-a79b-4112-889d-ffd2fa3ab231"
      },
      "execution_count": 21,
      "outputs": [
        {
          "output_type": "execute_result",
          "data": {
            "text/plain": [
              "1.375"
            ]
          },
          "metadata": {},
          "execution_count": 21
        }
      ]
    },
    {
      "cell_type": "code",
      "source": [
        "z=x**y # Exponent\n",
        "z"
      ],
      "metadata": {
        "colab": {
          "base_uri": "https://localhost:8080/"
        },
        "id": "US2HOpobN8G3",
        "outputId": "f3be275f-e585-48ad-e0d8-1c87c149fb8c"
      },
      "execution_count": 23,
      "outputs": [
        {
          "output_type": "execute_result",
          "data": {
            "text/plain": [
              "214358881"
            ]
          },
          "metadata": {},
          "execution_count": 23
        }
      ]
    },
    {
      "cell_type": "code",
      "source": [
        "z= x%y # Remainder\n",
        "z"
      ],
      "metadata": {
        "colab": {
          "base_uri": "https://localhost:8080/"
        },
        "id": "Ejtj-VakOB5X",
        "outputId": "4de2221d-f6d4-4ca0-85d8-e2bc77f3db38"
      },
      "execution_count": 25,
      "outputs": [
        {
          "output_type": "execute_result",
          "data": {
            "text/plain": [
              "3"
            ]
          },
          "metadata": {},
          "execution_count": 25
        }
      ]
    },
    {
      "cell_type": "code",
      "source": [
        "print('\\n Division 11/8 = {}'. format(x/y)) # Division of two numbers\n",
        "print('\\n Quotient 11//8={}'. format(x//y)) # Returns the Quotient for the division of two numbers \n",
        "print ('\\n Remainder 11%8={}'. format(x%y)) # Return the remainder for the division of two numbers"
      ],
      "metadata": {
        "colab": {
          "base_uri": "https://localhost:8080/"
        },
        "id": "Nrk-WvqROQP7",
        "outputId": "3aa3f10c-86be-4b76-acba-5e4e76f2498f"
      },
      "execution_count": 29,
      "outputs": [
        {
          "output_type": "stream",
          "name": "stdout",
          "text": [
            "\n",
            " Division 11/8 = 1.375\n",
            "\n",
            " Quotient 11//8=1\n",
            "\n",
            " Remainder 11%8=3\n"
          ]
        }
      ]
    },
    {
      "cell_type": "code",
      "source": [],
      "metadata": {
        "id": "dRMSMJroPkN1"
      },
      "execution_count": null,
      "outputs": []
    },
    {
      "cell_type": "markdown",
      "source": [
        "Inplace Operator"
      ],
      "metadata": {
        "id": "sEa2M4ZTP_bJ"
      }
    },
    {
      "cell_type": "code",
      "source": [
        "data = 2"
      ],
      "metadata": {
        "id": "TXvkq50iQBU3"
      },
      "execution_count": 30,
      "outputs": []
    },
    {
      "cell_type": "code",
      "source": [
        "\n",
        "data += 3 # this is same as data + 3\n",
        "print (data)\n"
      ],
      "metadata": {
        "colab": {
          "base_uri": "https://localhost:8080/"
        },
        "id": "2nOZXjDGN-9k",
        "outputId": "29ecd0e1-06aa-4b75-f2a6-1ef7f08b8313"
      },
      "execution_count": 33,
      "outputs": [
        {
          "output_type": "stream",
          "name": "stdout",
          "text": [
            "5\n"
          ]
        }
      ]
    },
    {
      "cell_type": "code",
      "source": [
        "my_string ='Python Language'\n",
        "print (my_string)\n",
        "\n",
        "print(my_string[0])\n",
        "\n",
        "print(my_string[0:3]) #Prints the character from position 0 to 2 \n",
        "\n",
        "print(my_string[-3:-1]) #Prints the character from position 0 to 2 in reverse order except the character at position 0\n",
        "\n",
        "print(my_string[-3:]) #\n",
        "\n",
        "print(my_string[:])\n",
        "\n"
      ],
      "metadata": {
        "colab": {
          "base_uri": "https://localhost:8080/"
        },
        "id": "zTFzfNdlQice",
        "outputId": "d12200e0-886a-4b3b-f982-6c343d07aab3"
      },
      "execution_count": 38,
      "outputs": [
        {
          "output_type": "stream",
          "name": "stdout",
          "text": [
            "Python Language\n",
            "P\n",
            "Pyt\n",
            "ag\n",
            "age\n",
            "Python Language\n"
          ]
        }
      ]
    },
    {
      "cell_type": "code",
      "source": [
        "str ='Manoj\\'s city is Pune'\n",
        "print(str)"
      ],
      "metadata": {
        "colab": {
          "base_uri": "https://localhost:8080/"
        },
        "id": "Olk6LhUpTS0Z",
        "outputId": "0ae475a0-8a23-4280-c005-ee2898796ad0"
      },
      "execution_count": 42,
      "outputs": [
        {
          "output_type": "stream",
          "name": "stdout",
          "text": [
            "Manoj's city is Pune\n"
          ]
        }
      ]
    },
    {
      "cell_type": "code",
      "source": [
        "str =\"Manoj's city is Pune\"\n",
        "print(str)"
      ],
      "metadata": {
        "colab": {
          "base_uri": "https://localhost:8080/"
        },
        "id": "KewBVdX4T0vF",
        "outputId": "abce2358-a231-4d9e-d744-4d5e7c2c362f"
      },
      "execution_count": 43,
      "outputs": [
        {
          "output_type": "stream",
          "name": "stdout",
          "text": [
            "Manoj's city is Pune\n"
          ]
        }
      ]
    },
    {
      "cell_type": "code",
      "source": [
        "string =\"Python is \\\"Exciting\\\"\"\n",
        "print (string)"
      ],
      "metadata": {
        "colab": {
          "base_uri": "https://localhost:8080/"
        },
        "id": "6HN-TW32T9Qe",
        "outputId": "84fe0a02-94a6-440b-85c7-16d0e1dae1b3"
      },
      "execution_count": 46,
      "outputs": [
        {
          "output_type": "stream",
          "name": "stdout",
          "text": [
            "Python is \"Exciting\"\n"
          ]
        }
      ]
    },
    {
      "cell_type": "code",
      "source": [],
      "metadata": {
        "id": "fOwycEhPURpF"
      },
      "execution_count": null,
      "outputs": []
    },
    {
      "cell_type": "markdown",
      "source": [
        "String Concatination"
      ],
      "metadata": {
        "id": "Qg4Z1irIUVOp"
      }
    },
    {
      "cell_type": "code",
      "source": [
        "str = \"Hello\" + \"World\"\n",
        "print (str)"
      ],
      "metadata": {
        "colab": {
          "base_uri": "https://localhost:8080/"
        },
        "id": "22-1LJLsUXpe",
        "outputId": "f5ad9f32-2e75-428b-ff82-9a6cadb9c2b4"
      },
      "execution_count": 47,
      "outputs": [
        {
          "output_type": "stream",
          "name": "stdout",
          "text": [
            "HelloWorld\n"
          ]
        }
      ]
    },
    {
      "cell_type": "code",
      "source": [
        "str =\"Hello \" + \"World\"\n",
        "print (str)"
      ],
      "metadata": {
        "colab": {
          "base_uri": "https://localhost:8080/"
        },
        "id": "nwCZBASOUneq",
        "outputId": "e34a6126-8135-40aa-900f-db197e6dc582"
      },
      "execution_count": 48,
      "outputs": [
        {
          "output_type": "stream",
          "name": "stdout",
          "text": [
            "Hello World\n"
          ]
        }
      ]
    },
    {
      "cell_type": "code",
      "source": [],
      "metadata": {
        "id": "Yw0TLmjZUu0E"
      },
      "execution_count": null,
      "outputs": []
    }
  ]
}